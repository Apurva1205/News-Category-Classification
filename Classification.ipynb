{
 "cells": [
  {
   "cell_type": "code",
   "execution_count": 1,
   "id": "9cc64b8d",
   "metadata": {},
   "outputs": [],
   "source": [
    "import pandas as pd\n",
    "\n",
    "# Load the dataset\n",
    "data = pd.read_csv('test.csv')\n",
    "\n",
    "# Preprocess the dataset\n",
    "# For example, remove unwanted columns, convert text to lowercase, etc.\n",
    "\n",
    "# Save the preprocessed dataset\n",
    "data.to_csv('preprocessed_dataset.csv', index=False)\n"
   ]
  },
  {
   "cell_type": "code",
   "execution_count": 7,
   "id": "b30e47b8",
   "metadata": {},
   "outputs": [],
   "source": [
    "import spacy\n",
    "import pandas as pd\n",
    "\n",
    "# Load the preprocessed dataset\n",
    "data = pd.read_csv('preprocessed_dataset.csv')\n",
    "\n",
    "# Load the spacy model\n",
    "nlp = spacy.load('en_core_web_sm')\n",
    "\n",
    "# Define a function to perform tokenization and other NLP techniques\n",
    "def nlp_process(text):\n",
    "    doc = nlp(text)\n",
    "    # Perform tokenization, lemmatization, named entity recognition, etc.\n",
    "    processed_text = \" \".join(token.lemma_ for token in doc)\n",
    "    # Return the processed text\n",
    "    return processed_text\n",
    "\n",
    "# Apply the function to the dataset\n",
    "data['processed_text'] = data['Description'].apply(nlp_process)\n",
    "\n",
    "# Save the processed dataset\n",
    "data.to_csv('processed_dataset.csv', index=False)\n"
   ]
  },
  {
   "cell_type": "code",
   "execution_count": null,
   "id": "fc706679",
   "metadata": {},
   "outputs": [],
   "source": [
    "from transformers import AutoTokenizer, AutoModelForQuestionAnswering, pipeline\n",
    "import pandas as pd\n",
    "\n",
    "# Load the processed dataset\n",
    "data = pd.read_csv('processed_dataset.csv')\n",
    "\n",
    "# Load the pre-trained model\n",
    "model_name = 'bert-large-uncased-whole-word-masking-finetuned-squad'\n",
    "tokenizer = AutoTokenizer.from_pretrained(model_name)\n",
    "model = AutoModelForQuestionAnswering.from_pretrained(model_name)\n",
    "\n",
    "# Fine-tune the model on the dataset\n",
    "# For example, split the dataset into training and validation sets, define the training loop, etc.\n",
    "\n",
    "# Save the fine-tuned model\n",
    "model.save_pretrained('fine-tuned_model')\n",
    "\n",
    "# Load the fine-tuned model\n",
    "model = AutoModelForQuestionAnswering.from_pretrained('fine-tuned_model')\n",
    "\n",
    "# Define a pipeline to generate answers\n",
    "qa_pipeline = pipeline('question-answering', model=model, tokenizer=tokenizer)\n",
    "\n",
    "# Test the pipeline on a sample input\n",
    "context = \"Barack Obama was the 44th President of the United States. He served as President from 2009 to 2017.\"\n",
    "question = \"Who was the 44th President of the United States?\"\n",
    "answer = qa_pipeline({'context': context, 'question': question})['answer']\n",
    "print(answer)\n"
   ]
  },
  {
   "cell_type": "code",
   "execution_count": null,
   "id": "89e5de44",
   "metadata": {},
   "outputs": [],
   "source": []
  }
 ],
 "metadata": {
  "kernelspec": {
   "display_name": "Python 3 (ipykernel)",
   "language": "python",
   "name": "python3"
  },
  "language_info": {
   "codemirror_mode": {
    "name": "ipython",
    "version": 3
   },
   "file_extension": ".py",
   "mimetype": "text/x-python",
   "name": "python",
   "nbconvert_exporter": "python",
   "pygments_lexer": "ipython3",
   "version": "3.9.13"
  }
 },
 "nbformat": 4,
 "nbformat_minor": 5
}
